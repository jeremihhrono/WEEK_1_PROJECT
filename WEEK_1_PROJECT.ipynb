{
  "nbformat": 4,
  "nbformat_minor": 0,
  "metadata": {
    "colab": {
      "provenance": []
    },
    "kernelspec": {
      "name": "python3",
      "display_name": "Python 3"
    },
    "language_info": {
      "name": "python"
    }
  },
  "cells": [
    {
      "cell_type": "code",
      "execution_count": 40,
      "metadata": {
        "id": "NhPj4iYZwXYR",
        "colab": {
          "base_uri": "https://localhost:8080/"
        },
        "outputId": "bb42a897-2d9e-41df-9f54-6fdd5743edf0"
      },
      "outputs": [
        {
          "output_type": "stream",
          "name": "stdout",
          "text": [
            "The sql extension is already loaded. To reload it, use:\n",
            "  %reload_ext sql\n"
          ]
        }
      ],
      "source": [
        "%load_ext sql"
      ]
    },
    {
      "cell_type": "code",
      "source": [
        "%sql sqlite:///tablegen.db"
      ],
      "metadata": {
        "id": "Mk-ypX9fBSIM"
      },
      "execution_count": 2,
      "outputs": []
    },
    {
      "cell_type": "code",
      "source": [
        "%%sql CREATE TABLE beneficiary_partner_data (\n",
        "partner_id INTEGER NOT NULL PRIMARY KEY,\n",
        "partner VARCHAR(30) NOT NULL,\n",
        "village VARCHAR(30) NOT NULL,\n",
        "beneficiaries INTEGER,\n",
        "beneficiary_type VARCHAR(30)\n",
        ");"
      ],
      "metadata": {
        "id": "2LvCpe-FbRyt",
        "colab": {
          "base_uri": "https://localhost:8080/"
        },
        "outputId": "c3302de6-b7d9-4962-aadc-db9fcbaf038d"
      },
      "execution_count": 3,
      "outputs": [
        {
          "output_type": "stream",
          "name": "stdout",
          "text": [
            " * sqlite:///tablegen.db\n",
            "Done.\n"
          ]
        },
        {
          "output_type": "execute_result",
          "data": {
            "text/plain": [
              "[]"
            ]
          },
          "metadata": {},
          "execution_count": 3
        }
      ]
    },
    {
      "cell_type": "code",
      "source": [
        "%%sql CREATE TABLE village_locations (\n",
        "    village_id INTEGER NOT NULL PRIMARY KEY,\n",
        "    village VARCHAR(30) NOT NULL,\n",
        "    latitude VARCHAR(30),\n",
        "    longitude VARCHAR(30),\n",
        "    total_population INTEGER\n",
        ");"
      ],
      "metadata": {
        "id": "ttoAcq1XbTY1",
        "colab": {
          "base_uri": "https://localhost:8080/"
        },
        "outputId": "6a70a569-5c96-4f69-e570-bdb352290dd0"
      },
      "execution_count": 4,
      "outputs": [
        {
          "output_type": "stream",
          "name": "stdout",
          "text": [
            " * sqlite:///tablegen.db\n",
            "Done.\n"
          ]
        },
        {
          "output_type": "execute_result",
          "data": {
            "text/plain": [
              "[]"
            ]
          },
          "metadata": {},
          "execution_count": 4
        }
      ]
    },
    {
      "cell_type": "code",
      "source": [
        "%%sql CREATE TABLE jurisdiction_hierarchy (\n",
        "    jurisdiction_id INTEGER,\n",
        "    village VARCHAR(30),\n",
        "    jurisdiction_hierarchy_level VARCHAR(30),\n",
        "    beneficiary_name VARCHAR(30)\n",
        ");"
      ],
      "metadata": {
        "colab": {
          "base_uri": "https://localhost:8080/"
        },
        "id": "JreRlYcR9Aad",
        "outputId": "87fe9033-7fd3-4366-8a99-f9730a9cba58"
      },
      "execution_count": 5,
      "outputs": [
        {
          "output_type": "stream",
          "name": "stdout",
          "text": [
            " * sqlite:///tablegen.db\n",
            "Done.\n"
          ]
        },
        {
          "output_type": "execute_result",
          "data": {
            "text/plain": [
              "[]"
            ]
          },
          "metadata": {},
          "execution_count": 5
        }
      ]
    },
    {
      "cell_type": "code",
      "source": [
        "%%sql CREATE TABLE district (\n",
        "    District_name VARCHAR(30),\n",
        "    Region_name VARCHAR(30),\n",
        "    Individual_beneficiary INTEGER,\n",
        "    Total_district_population INTEGER\n",
        ");"
      ],
      "metadata": {
        "colab": {
          "base_uri": "https://localhost:8080/"
        },
        "id": "Un1KXLUL7UG9",
        "outputId": "b5393eda-e769-4836-c369-c64c08027efb"
      },
      "execution_count": 26,
      "outputs": [
        {
          "output_type": "stream",
          "name": "stdout",
          "text": [
            " * sqlite:///tablegen.db\n",
            "(sqlite3.OperationalError) table district already exists\n",
            "[SQL: CREATE TABLE district (\n",
            "    District_name VARCHAR(30),\n",
            "    Region_name VARCHAR(30),\n",
            "    Individual_beneficiary INTEGER,\n",
            "    Total_district_population INTEGER\n",
            ");]\n",
            "(Background on this error at: https://sqlalche.me/e/20/e3q8)\n"
          ]
        }
      ]
    },
    {
      "cell_type": "code",
      "source": [
        "%%sql CREATE TABLE partner (\n",
        "    partner_name VARCHAR(30),\n",
        "    latitude VARCHAR(30),\n",
        "    villages_reached INTEGER,\n",
        "    district_reached INTEGER\n",
        ");"
      ],
      "metadata": {
        "colab": {
          "base_uri": "https://localhost:8080/"
        },
        "id": "RgvlJVal8Y2O",
        "outputId": "ee344692-5653-4dfd-85ab-086d154d386c"
      },
      "execution_count": null,
      "outputs": [
        {
          "output_type": "stream",
          "name": "stdout",
          "text": [
            " * sqlite:///tablegen.db\n",
            "Done.\n"
          ]
        },
        {
          "output_type": "execute_result",
          "data": {
            "text/plain": [
              "[]"
            ]
          },
          "metadata": {},
          "execution_count": 25
        }
      ]
    },
    {
      "cell_type": "code",
      "source": [
        "%%sql\n",
        "INSERT INTO jurisdiction_hierarchy VALUES(1,'Middle Shabelle','Region',NULL);\n",
        "INSERT INTO jurisdiction_hierarchy VALUES(2,'Hiraan','Region',NULL);\n",
        "INSERT INTO jurisdiction_hierarchy VALUES(3,'Balcad','District','Middle Shabelle');\n",
        "INSERT INTO jurisdiction_hierarchy VALUES(4,'Jowhar','District','Middle Shabelle');\n",
        "INSERT INTO jurisdiction_hierarchy VALUES(5,'Beledweyn','District','Hiraan');\n",
        "INSERT INTO jurisdiction_hierarchy VALUES(6,'Dharkenley','Village','Beledweyn');\n",
        "INSERT INTO jurisdiction_hierarchy VALUES(7,'Bulo-Kahin','Village','Beledweyn');\n",
        "INSERT INTO jurisdiction_hierarchy VALUES(8,'Hilo Kelyo','Village','Beledweyn');\n",
        "INSERT INTO jurisdiction_hierarchy VALUES(9,'Xubow','Village','Beledweyn');\n",
        "INSERT INTO jurisdiction_hierarchy VALUES(10,'Xiintooy','Village','Beledweyn');\n",
        "INSERT INTO jurisdiction_hierarchy VALUES(11,'Dhagax Jebis','Village','Beledweyn');\n",
        "INSERT INTO jurisdiction_hierarchy VALUES(12,'Filtare','Village','Beledweyn');\n",
        "INSERT INTO jurisdiction_hierarchy VALUES(13,'Howl-Wadaag','Village','Beledweyn');\n",
        "INSERT INTO jurisdiction_hierarchy VALUES(14,'Balcad','Village','Balcad');\n",
        "INSERT INTO jurisdiction_hierarchy VALUES(15,'Mareeray','Village','Balcad');\n",
        "INSERT INTO jurisdiction_hierarchy VALUES(16,'Kulmis','Village','Balcad');\n",
        "INSERT INTO jurisdiction_hierarchy VALUES(17,'Sabuun','Village','Jowhar');\n",
        "INSERT INTO jurisdiction_hierarchy VALUES(18,'Bayaxaw','Village','Jowhar');\n",
        "\n",
        "\n"
      ],
      "metadata": {
        "id": "cS0P5WTLbXF0",
        "colab": {
          "base_uri": "https://localhost:8080/"
        },
        "outputId": "a1a7b041-e074-4fbe-af35-81e5659cfc57"
      },
      "execution_count": 6,
      "outputs": [
        {
          "output_type": "stream",
          "name": "stdout",
          "text": [
            " * sqlite:///tablegen.db\n",
            "1 rows affected.\n",
            "1 rows affected.\n",
            "1 rows affected.\n",
            "1 rows affected.\n",
            "1 rows affected.\n",
            "1 rows affected.\n",
            "1 rows affected.\n",
            "1 rows affected.\n",
            "1 rows affected.\n",
            "1 rows affected.\n",
            "1 rows affected.\n",
            "1 rows affected.\n",
            "1 rows affected.\n",
            "1 rows affected.\n",
            "1 rows affected.\n",
            "1 rows affected.\n",
            "1 rows affected.\n",
            "1 rows affected.\n"
          ]
        },
        {
          "output_type": "execute_result",
          "data": {
            "text/plain": [
              "[]"
            ]
          },
          "metadata": {},
          "execution_count": 6
        }
      ]
    },
    {
      "cell_type": "code",
      "source": [
        "%%sql\n",
        "INSERT INTO village_locations(village_id, village,latitude,longitude, total_population) VALUES(1,'Dharkenley','4°47''35.40\"','45°12''28.80\"',12800);\n",
        "INSERT INTO village_locations(village_id, village,latitude,longitude, total_population) VALUES(2,'Bulo-Kahin','4°47''57.00\"','45°11''5.70\"',9485);\n",
        "INSERT INTO village_locations(village_id, village,latitude,longitude, total_population) VALUES(3,'Hilo Kelyo','4°47''57.00\"','45°12''58.60\"',5212);\n",
        "INSERT INTO village_locations(village_id, village,latitude,longitude, total_population) VALUES(4,'Xubow','4°46''46.77\"','45°12''7.57\"',2558);\n",
        "INSERT INTO village_locations(village_id, village,latitude,longitude, total_population) VALUES(5,'Xiintooy','4°44''14.40\"','45°13''5.00\"',3850);\n",
        "INSERT INTO village_locations(village_id, village,latitude,longitude, total_population) VALUES(6,'Dhagax Jebis','4°44''27.86\"','45°12''42.03\"',3563);\n",
        "INSERT INTO village_locations(village_id, village,latitude,longitude, total_population) VALUES(7,'Filtare','4°44''20.43\"','45°12''27.89\"',8000);\n",
        "INSERT INTO village_locations(village_id, village,latitude,longitude, total_population) VALUES(8,'Howl-Wadaag','4°43''50.00\"','45°11''58.20\"',7525);\n",
        "INSERT INTO village_locations(village_id, village,latitude,longitude, total_population) VALUES(9,'Balcad','2°21.624''','45°23.928''',1500);\n",
        "INSERT INTO village_locations(village_id, village,latitude,longitude, total_population) VALUES(10,'Mareeray','2°23.504''','45°25.200''',7500);\n",
        "INSERT INTO village_locations(village_id, village,latitude,longitude, total_population) VALUES(11,'Kulmis','2°36.761''','45°30.642''',6058);\n",
        "INSERT INTO village_locations(village_id, village,latitude,longitude, total_population) VALUES(12,'Sabuun','2°53.020''','45°32.356''',5483);\n",
        "INSERT INTO village_locations(village_id, village,latitude,longitude, total_population) VALUES(13,'Bayaxaw','2°44.768''','45°29.727''',3000);\n",
        "INSERT INTO village_locations(village_id, village,latitude,longitude, total_population) VALUES(14,'Bayaxawo','2°44.768''','45°29.926''',7560);\n",
        "\n"
      ],
      "metadata": {
        "id": "oP0MMmKcbehg",
        "colab": {
          "base_uri": "https://localhost:8080/"
        },
        "outputId": "1338f0e4-146f-48f5-d974-1cf0d1d6fbee"
      },
      "execution_count": 7,
      "outputs": [
        {
          "output_type": "stream",
          "name": "stdout",
          "text": [
            " * sqlite:///tablegen.db\n",
            "1 rows affected.\n",
            "1 rows affected.\n",
            "1 rows affected.\n",
            "1 rows affected.\n",
            "1 rows affected.\n",
            "1 rows affected.\n",
            "1 rows affected.\n",
            "1 rows affected.\n",
            "1 rows affected.\n",
            "1 rows affected.\n",
            "1 rows affected.\n",
            "1 rows affected.\n",
            "1 rows affected.\n",
            "1 rows affected.\n"
          ]
        },
        {
          "output_type": "execute_result",
          "data": {
            "text/plain": [
              "[]"
            ]
          },
          "metadata": {},
          "execution_count": 7
        }
      ]
    },
    {
      "cell_type": "code",
      "source": [
        "%sql PRAGMA table_info(village_locations);"
      ],
      "metadata": {
        "colab": {
          "base_uri": "https://localhost:8080/",
          "height": 182
        },
        "id": "MDM8UcPAAnql",
        "outputId": "e6c3575b-8cee-44cb-c179-906a6fc463d7"
      },
      "execution_count": 8,
      "outputs": [
        {
          "output_type": "stream",
          "name": "stdout",
          "text": [
            " * sqlite:///tablegen.db\n",
            "Done.\n"
          ]
        },
        {
          "output_type": "execute_result",
          "data": {
            "text/plain": [
              "[(0, 'village_id', 'INTEGER', 1, None, 1),\n",
              " (1, 'village', 'VARCHAR(30)', 1, None, 0),\n",
              " (2, 'latitude', 'VARCHAR(30)', 0, None, 0),\n",
              " (3, 'longitude', 'VARCHAR(30)', 0, None, 0),\n",
              " (4, 'total_population', 'INTEGER', 0, None, 0)]"
            ],
            "text/html": [
              "<table>\n",
              "    <thead>\n",
              "        <tr>\n",
              "            <th>cid</th>\n",
              "            <th>name</th>\n",
              "            <th>type</th>\n",
              "            <th>notnull</th>\n",
              "            <th>dflt_value</th>\n",
              "            <th>pk</th>\n",
              "        </tr>\n",
              "    </thead>\n",
              "    <tbody>\n",
              "        <tr>\n",
              "            <td>0</td>\n",
              "            <td>village_id</td>\n",
              "            <td>INTEGER</td>\n",
              "            <td>1</td>\n",
              "            <td>None</td>\n",
              "            <td>1</td>\n",
              "        </tr>\n",
              "        <tr>\n",
              "            <td>1</td>\n",
              "            <td>village</td>\n",
              "            <td>VARCHAR(30)</td>\n",
              "            <td>1</td>\n",
              "            <td>None</td>\n",
              "            <td>0</td>\n",
              "        </tr>\n",
              "        <tr>\n",
              "            <td>2</td>\n",
              "            <td>latitude</td>\n",
              "            <td>VARCHAR(30)</td>\n",
              "            <td>0</td>\n",
              "            <td>None</td>\n",
              "            <td>0</td>\n",
              "        </tr>\n",
              "        <tr>\n",
              "            <td>3</td>\n",
              "            <td>longitude</td>\n",
              "            <td>VARCHAR(30)</td>\n",
              "            <td>0</td>\n",
              "            <td>None</td>\n",
              "            <td>0</td>\n",
              "        </tr>\n",
              "        <tr>\n",
              "            <td>4</td>\n",
              "            <td>total_population</td>\n",
              "            <td>INTEGER</td>\n",
              "            <td>0</td>\n",
              "            <td>None</td>\n",
              "            <td>0</td>\n",
              "        </tr>\n",
              "    </tbody>\n",
              "</table>"
            ]
          },
          "metadata": {},
          "execution_count": 8
        }
      ]
    },
    {
      "cell_type": "code",
      "source": [
        "%sql SELECT * FROM village_locations;"
      ],
      "metadata": {
        "colab": {
          "base_uri": "https://localhost:8080/",
          "height": 374
        },
        "id": "c1apg-lNBqgr",
        "outputId": "073e759e-0d78-4556-a456-261a05288c5e"
      },
      "execution_count": 9,
      "outputs": [
        {
          "output_type": "stream",
          "name": "stdout",
          "text": [
            " * sqlite:///tablegen.db\n",
            "Done.\n"
          ]
        },
        {
          "output_type": "execute_result",
          "data": {
            "text/plain": [
              "[(1, 'Dharkenley', '4°47\\'35.40\"', '45°12\\'28.80\"', 12800),\n",
              " (2, 'Bulo-Kahin', '4°47\\'57.00\"', '45°11\\'5.70\"', 9485),\n",
              " (3, 'Hilo Kelyo', '4°47\\'57.00\"', '45°12\\'58.60\"', 5212),\n",
              " (4, 'Xubow', '4°46\\'46.77\"', '45°12\\'7.57\"', 2558),\n",
              " (5, 'Xiintooy', '4°44\\'14.40\"', '45°13\\'5.00\"', 3850),\n",
              " (6, 'Dhagax Jebis', '4°44\\'27.86\"', '45°12\\'42.03\"', 3563),\n",
              " (7, 'Filtare', '4°44\\'20.43\"', '45°12\\'27.89\"', 8000),\n",
              " (8, 'Howl-Wadaag', '4°43\\'50.00\"', '45°11\\'58.20\"', 7525),\n",
              " (9, 'Balcad', \"2°21.624'\", \"45°23.928'\", 1500),\n",
              " (10, 'Mareeray', \"2°23.504'\", \"45°25.200'\", 7500),\n",
              " (11, 'Kulmis', \"2°36.761'\", \"45°30.642'\", 6058),\n",
              " (12, 'Sabuun', \"2°53.020'\", \"45°32.356'\", 5483),\n",
              " (13, 'Bayaxaw', \"2°44.768'\", \"45°29.727'\", 3000),\n",
              " (14, 'Bayaxawo', \"2°44.768'\", \"45°29.926'\", 7560)]"
            ],
            "text/html": [
              "<table>\n",
              "    <thead>\n",
              "        <tr>\n",
              "            <th>village_id</th>\n",
              "            <th>village</th>\n",
              "            <th>latitude</th>\n",
              "            <th>longitude</th>\n",
              "            <th>total_population</th>\n",
              "        </tr>\n",
              "    </thead>\n",
              "    <tbody>\n",
              "        <tr>\n",
              "            <td>1</td>\n",
              "            <td>Dharkenley</td>\n",
              "            <td>4°47&#x27;35.40&quot;</td>\n",
              "            <td>45°12&#x27;28.80&quot;</td>\n",
              "            <td>12800</td>\n",
              "        </tr>\n",
              "        <tr>\n",
              "            <td>2</td>\n",
              "            <td>Bulo-Kahin</td>\n",
              "            <td>4°47&#x27;57.00&quot;</td>\n",
              "            <td>45°11&#x27;5.70&quot;</td>\n",
              "            <td>9485</td>\n",
              "        </tr>\n",
              "        <tr>\n",
              "            <td>3</td>\n",
              "            <td>Hilo Kelyo</td>\n",
              "            <td>4°47&#x27;57.00&quot;</td>\n",
              "            <td>45°12&#x27;58.60&quot;</td>\n",
              "            <td>5212</td>\n",
              "        </tr>\n",
              "        <tr>\n",
              "            <td>4</td>\n",
              "            <td>Xubow</td>\n",
              "            <td>4°46&#x27;46.77&quot;</td>\n",
              "            <td>45°12&#x27;7.57&quot;</td>\n",
              "            <td>2558</td>\n",
              "        </tr>\n",
              "        <tr>\n",
              "            <td>5</td>\n",
              "            <td>Xiintooy</td>\n",
              "            <td>4°44&#x27;14.40&quot;</td>\n",
              "            <td>45°13&#x27;5.00&quot;</td>\n",
              "            <td>3850</td>\n",
              "        </tr>\n",
              "        <tr>\n",
              "            <td>6</td>\n",
              "            <td>Dhagax Jebis</td>\n",
              "            <td>4°44&#x27;27.86&quot;</td>\n",
              "            <td>45°12&#x27;42.03&quot;</td>\n",
              "            <td>3563</td>\n",
              "        </tr>\n",
              "        <tr>\n",
              "            <td>7</td>\n",
              "            <td>Filtare</td>\n",
              "            <td>4°44&#x27;20.43&quot;</td>\n",
              "            <td>45°12&#x27;27.89&quot;</td>\n",
              "            <td>8000</td>\n",
              "        </tr>\n",
              "        <tr>\n",
              "            <td>8</td>\n",
              "            <td>Howl-Wadaag</td>\n",
              "            <td>4°43&#x27;50.00&quot;</td>\n",
              "            <td>45°11&#x27;58.20&quot;</td>\n",
              "            <td>7525</td>\n",
              "        </tr>\n",
              "        <tr>\n",
              "            <td>9</td>\n",
              "            <td>Balcad</td>\n",
              "            <td>2°21.624&#x27;</td>\n",
              "            <td>45°23.928&#x27;</td>\n",
              "            <td>1500</td>\n",
              "        </tr>\n",
              "        <tr>\n",
              "            <td>10</td>\n",
              "            <td>Mareeray</td>\n",
              "            <td>2°23.504&#x27;</td>\n",
              "            <td>45°25.200&#x27;</td>\n",
              "            <td>7500</td>\n",
              "        </tr>\n",
              "        <tr>\n",
              "            <td>11</td>\n",
              "            <td>Kulmis</td>\n",
              "            <td>2°36.761&#x27;</td>\n",
              "            <td>45°30.642&#x27;</td>\n",
              "            <td>6058</td>\n",
              "        </tr>\n",
              "        <tr>\n",
              "            <td>12</td>\n",
              "            <td>Sabuun</td>\n",
              "            <td>2°53.020&#x27;</td>\n",
              "            <td>45°32.356&#x27;</td>\n",
              "            <td>5483</td>\n",
              "        </tr>\n",
              "        <tr>\n",
              "            <td>13</td>\n",
              "            <td>Bayaxaw</td>\n",
              "            <td>2°44.768&#x27;</td>\n",
              "            <td>45°29.727&#x27;</td>\n",
              "            <td>3000</td>\n",
              "        </tr>\n",
              "        <tr>\n",
              "            <td>14</td>\n",
              "            <td>Bayaxawo</td>\n",
              "            <td>2°44.768&#x27;</td>\n",
              "            <td>45°29.926&#x27;</td>\n",
              "            <td>7560</td>\n",
              "        </tr>\n",
              "    </tbody>\n",
              "</table>"
            ]
          },
          "metadata": {},
          "execution_count": 9
        }
      ]
    },
    {
      "cell_type": "code",
      "source": [
        "%%sql\n",
        "INSERT INTO beneficiary_partner_data(partner_id,partner,village,beneficiaries,beneficiary_type) VALUES(1,'IRC','Balcad','1450','Individuals');\n",
        "INSERT INTO beneficiary_partner_data(partner_id,partner,village,beneficiaries,beneficiary_type) VALUES(2,'NRC','Balcad','50','Households');\n",
        "INSERT INTO beneficiary_partner_data(partner_id,partner,village,beneficiaries,beneficiary_type) VALUES(3,'SCI','Balcad','1123','Individuals');\n",
        "INSERT INTO beneficiary_partner_data(partner_id,partner,village,beneficiaries,beneficiary_type) VALUES(4,'IMC','Balcad','1245','Individuals');\n",
        "INSERT INTO beneficiary_partner_data(partner_id,partner,village,beneficiaries,beneficiary_type) VALUES(5,'SCI','Mareeray','5200','Individuals');\n",
        "INSERT INTO beneficiary_partner_data(partner_id,partner,village,beneficiaries,beneficiary_type) VALUES(6,'IMC','Mareeray','70','Households');\n",
        "INSERT INTO beneficiary_partner_data(partner_id,partner,village,beneficiaries,beneficiary_type) VALUES(7,'IRC','Mareeray','2100','Individuals');\n",
        "INSERT INTO beneficiary_partner_data(partner_id,partner,village,beneficiaries,beneficiary_type) VALUES(8,'CESVI','Mareeray','1800','Individuals');\n",
        "INSERT INTO beneficiary_partner_data(partner_id,partner,village,beneficiaries,beneficiary_type) VALUES(9,'SCI','Kulmis','1340','Individuals');\n",
        "INSERT INTO beneficiary_partner_data(partner_id,partner,village,beneficiaries,beneficiary_type) VALUES(10,'IMC','Kulmis','55','Households');\n",
        "INSERT INTO beneficiary_partner_data(partner_id,partner,village,beneficiaries,beneficiary_type) VALUES(11,'SCI','Kulmis','4500','Individuals');\n",
        "INSERT INTO beneficiary_partner_data(partner_id,partner,village,beneficiaries,beneficiary_type) VALUES(12,'IMC','Kulmis','1670','Individuals');\n",
        "INSERT INTO beneficiary_partner_data(partner_id,partner,village,beneficiaries,beneficiary_type) VALUES(13,'IMC','Sabuun','1340','Individuals');\n",
        "INSERT INTO beneficiary_partner_data(partner_id,partner,village,beneficiaries,beneficiary_type) VALUES(14,'IRC','Sabuun','66','Households');\n",
        "INSERT INTO beneficiary_partner_data(partner_id,partner,village,beneficiaries,beneficiary_type) VALUES(15,'CESVI','Sabuun','4090','Individuals');\n",
        "INSERT INTO beneficiary_partner_data(partner_id,partner,village,beneficiaries,beneficiary_type) VALUES(16,'SCI','Sabuun','2930','Individuals');\n",
        "INSERT INTO beneficiary_partner_data(partner_id,partner,village,beneficiaries,beneficiary_type) VALUES(17,'IMC','Bayaxaw','2800','Individuals');\n",
        "INSERT INTO beneficiary_partner_data(partner_id,partner,village,beneficiaries,beneficiary_type) VALUES(18,'IRC','Bayaxaw','2100','Individuals');\n",
        "INSERT INTO beneficiary_partner_data(partner_id,partner,village,beneficiaries,beneficiary_type) VALUES(19,'CESVI','Bayaxaw','45','Households');\n",
        "INSERT INTO beneficiary_partner_data(partner_id,partner,village,beneficiaries,beneficiary_type) VALUES(20,'SCI','Bayaxaw','1700','Individuals');\n",
        "INSERT INTO beneficiary_partner_data(partner_id,partner,village,beneficiaries,beneficiary_type) VALUES(21,'SCI','Bayaxawo','5900','Individuals');\n",
        "INSERT INTO beneficiary_partner_data(partner_id,partner,village,beneficiaries,beneficiary_type) VALUES(22,'IMC','Bayaxawo','40','Households');\n",
        "INSERT INTO beneficiary_partner_data(partner_id,partner,village,beneficiaries,beneficiary_type) VALUES(23,'IRC','Bayaxawo','1500','Individuals');\n",
        "INSERT INTO beneficiary_partner_data(partner_id,partner,village,beneficiaries,beneficiary_type) VALUES(24,'CESVI','Bayaxawo','1260','Individuals');\n",
        "INSERT INTO beneficiary_partner_data(partner_id,partner,village,beneficiaries,beneficiary_type) VALUES(25,'CESVI','Dharkenley','7880','Individuals');\n",
        "INSERT INTO beneficiary_partner_data(partner_id,partner,village,beneficiaries,beneficiary_type) VALUES(26,'IRC','Dharkenley','34','Households');\n",
        "INSERT INTO beneficiary_partner_data(partner_id,partner,village,beneficiaries,beneficiary_type) VALUES(27,'SCI','Bulo-Kahin','4300','Individuals');\n",
        "INSERT INTO beneficiary_partner_data(partner_id,partner,village,beneficiaries,beneficiary_type) VALUES(28,'IMC','Bulo-Kahin','4212','Individuals');\n",
        "INSERT INTO beneficiary_partner_data(partner_id,partner,village,beneficiaries,beneficiary_type) VALUES(29,'IRC','Bulo-Kahin','3200','Individuals');\n",
        "INSERT INTO beneficiary_partner_data(partner_id,partner,village,beneficiaries,beneficiary_type) VALUES(30,'IRC','Hilo Kelyo','5212','Individuals');\n",
        "INSERT INTO beneficiary_partner_data(partner_id,partner,village,beneficiaries,beneficiary_type) VALUES(31,'SCI','Hilo Kelyo','25','Households');\n",
        "INSERT INTO beneficiary_partner_data(partner_id,partner,village,beneficiaries,beneficiary_type) VALUES(32,'CESVI','Xubow','2157','Individuals');\n",
        "INSERT INTO beneficiary_partner_data(partner_id,partner,village,beneficiaries,beneficiary_type) VALUES(33,'IMC','Xiintooy','1667','Individuals');\n",
        "INSERT INTO beneficiary_partner_data(partner_id,partner,village,beneficiaries,beneficiary_type) VALUES(34,'IRC','Xiintooy','2667','Individuals');\n",
        "INSERT INTO beneficiary_partner_data(partner_id,partner,village,beneficiaries,beneficiary_type) VALUES(35,'CESVI','Dhagax Jebis','2856','Individuals');\n",
        "INSERT INTO beneficiary_partner_data(partner_id,partner,village,beneficiaries,beneficiary_type) VALUES(36,'CESVI','Filtare','7519','Individuals');\n",
        "INSERT INTO beneficiary_partner_data(partner_id,partner,village,beneficiaries,beneficiary_type) VALUES(37,'CESVI','Howl-Wadaag','6870','Individuals');\n",
        "INSERT INTO beneficiary_partner_data(partner_id,partner,village,beneficiaries,beneficiary_type) VALUES(38,'IMC','Howl-Wadaag','32','Households');\n"
      ],
      "metadata": {
        "id": "QcqOvPE_bmtc",
        "colab": {
          "base_uri": "https://localhost:8080/"
        },
        "outputId": "ef99d085-efda-485c-a4e0-cae84769064c"
      },
      "execution_count": 10,
      "outputs": [
        {
          "output_type": "stream",
          "name": "stdout",
          "text": [
            " * sqlite:///tablegen.db\n",
            "1 rows affected.\n",
            "1 rows affected.\n",
            "1 rows affected.\n",
            "1 rows affected.\n",
            "1 rows affected.\n",
            "1 rows affected.\n",
            "1 rows affected.\n",
            "1 rows affected.\n",
            "1 rows affected.\n",
            "1 rows affected.\n",
            "1 rows affected.\n",
            "1 rows affected.\n",
            "1 rows affected.\n",
            "1 rows affected.\n",
            "1 rows affected.\n",
            "1 rows affected.\n",
            "1 rows affected.\n",
            "1 rows affected.\n",
            "1 rows affected.\n",
            "1 rows affected.\n",
            "1 rows affected.\n",
            "1 rows affected.\n",
            "1 rows affected.\n",
            "1 rows affected.\n",
            "1 rows affected.\n",
            "1 rows affected.\n",
            "1 rows affected.\n",
            "1 rows affected.\n",
            "1 rows affected.\n",
            "1 rows affected.\n",
            "1 rows affected.\n",
            "1 rows affected.\n",
            "1 rows affected.\n",
            "1 rows affected.\n",
            "1 rows affected.\n",
            "1 rows affected.\n",
            "1 rows affected.\n",
            "1 rows affected.\n"
          ]
        },
        {
          "output_type": "execute_result",
          "data": {
            "text/plain": [
              "[]"
            ]
          },
          "metadata": {},
          "execution_count": 10
        }
      ]
    },
    {
      "cell_type": "code",
      "source": [
        "%sql PRAGMA table_info(beneficiary_partner_data);"
      ],
      "metadata": {
        "id": "VBKqC-w_bzvP",
        "colab": {
          "base_uri": "https://localhost:8080/",
          "height": 182
        },
        "outputId": "59187d2e-97d8-477f-e6b6-9ed2f4fb6275"
      },
      "execution_count": 11,
      "outputs": [
        {
          "output_type": "stream",
          "name": "stdout",
          "text": [
            " * sqlite:///tablegen.db\n",
            "Done.\n"
          ]
        },
        {
          "output_type": "execute_result",
          "data": {
            "text/plain": [
              "[(0, 'partner_id', 'INTEGER', 1, None, 1),\n",
              " (1, 'partner', 'VARCHAR(30)', 1, None, 0),\n",
              " (2, 'village', 'VARCHAR(30)', 1, None, 0),\n",
              " (3, 'beneficiaries', 'INTEGER', 0, None, 0),\n",
              " (4, 'beneficiary_type', 'VARCHAR(30)', 0, None, 0)]"
            ],
            "text/html": [
              "<table>\n",
              "    <thead>\n",
              "        <tr>\n",
              "            <th>cid</th>\n",
              "            <th>name</th>\n",
              "            <th>type</th>\n",
              "            <th>notnull</th>\n",
              "            <th>dflt_value</th>\n",
              "            <th>pk</th>\n",
              "        </tr>\n",
              "    </thead>\n",
              "    <tbody>\n",
              "        <tr>\n",
              "            <td>0</td>\n",
              "            <td>partner_id</td>\n",
              "            <td>INTEGER</td>\n",
              "            <td>1</td>\n",
              "            <td>None</td>\n",
              "            <td>1</td>\n",
              "        </tr>\n",
              "        <tr>\n",
              "            <td>1</td>\n",
              "            <td>partner</td>\n",
              "            <td>VARCHAR(30)</td>\n",
              "            <td>1</td>\n",
              "            <td>None</td>\n",
              "            <td>0</td>\n",
              "        </tr>\n",
              "        <tr>\n",
              "            <td>2</td>\n",
              "            <td>village</td>\n",
              "            <td>VARCHAR(30)</td>\n",
              "            <td>1</td>\n",
              "            <td>None</td>\n",
              "            <td>0</td>\n",
              "        </tr>\n",
              "        <tr>\n",
              "            <td>3</td>\n",
              "            <td>beneficiaries</td>\n",
              "            <td>INTEGER</td>\n",
              "            <td>0</td>\n",
              "            <td>None</td>\n",
              "            <td>0</td>\n",
              "        </tr>\n",
              "        <tr>\n",
              "            <td>4</td>\n",
              "            <td>beneficiary_type</td>\n",
              "            <td>VARCHAR(30)</td>\n",
              "            <td>0</td>\n",
              "            <td>None</td>\n",
              "            <td>0</td>\n",
              "        </tr>\n",
              "    </tbody>\n",
              "</table>"
            ]
          },
          "metadata": {},
          "execution_count": 11
        }
      ]
    },
    {
      "cell_type": "code",
      "source": [
        "%sql SELECT * FROM beneficiary_partner_data;"
      ],
      "metadata": {
        "colab": {
          "base_uri": "https://localhost:8080/",
          "height": 887
        },
        "id": "044nZyR3B5gG",
        "outputId": "c2f3ddc1-8b5e-4dc2-ecb5-e6b0998ef614"
      },
      "execution_count": 12,
      "outputs": [
        {
          "output_type": "stream",
          "name": "stdout",
          "text": [
            " * sqlite:///tablegen.db\n",
            "Done.\n"
          ]
        },
        {
          "output_type": "execute_result",
          "data": {
            "text/plain": [
              "[(1, 'IRC', 'Balcad', 1450, 'Individuals'),\n",
              " (2, 'NRC', 'Balcad', 50, 'Households'),\n",
              " (3, 'SCI', 'Balcad', 1123, 'Individuals'),\n",
              " (4, 'IMC', 'Balcad', 1245, 'Individuals'),\n",
              " (5, 'SCI', 'Mareeray', 5200, 'Individuals'),\n",
              " (6, 'IMC', 'Mareeray', 70, 'Households'),\n",
              " (7, 'IRC', 'Mareeray', 2100, 'Individuals'),\n",
              " (8, 'CESVI', 'Mareeray', 1800, 'Individuals'),\n",
              " (9, 'SCI', 'Kulmis', 1340, 'Individuals'),\n",
              " (10, 'IMC', 'Kulmis', 55, 'Households'),\n",
              " (11, 'SCI', 'Kulmis', 4500, 'Individuals'),\n",
              " (12, 'IMC', 'Kulmis', 1670, 'Individuals'),\n",
              " (13, 'IMC', 'Sabuun', 1340, 'Individuals'),\n",
              " (14, 'IRC', 'Sabuun', 66, 'Households'),\n",
              " (15, 'CESVI', 'Sabuun', 4090, 'Individuals'),\n",
              " (16, 'SCI', 'Sabuun', 2930, 'Individuals'),\n",
              " (17, 'IMC', 'Bayaxaw', 2800, 'Individuals'),\n",
              " (18, 'IRC', 'Bayaxaw', 2100, 'Individuals'),\n",
              " (19, 'CESVI', 'Bayaxaw', 45, 'Households'),\n",
              " (20, 'SCI', 'Bayaxaw', 1700, 'Individuals'),\n",
              " (21, 'SCI', 'Bayaxawo', 5900, 'Individuals'),\n",
              " (22, 'IMC', 'Bayaxawo', 40, 'Households'),\n",
              " (23, 'IRC', 'Bayaxawo', 1500, 'Individuals'),\n",
              " (24, 'CESVI', 'Bayaxawo', 1260, 'Individuals'),\n",
              " (25, 'CESVI', 'Dharkenley', 7880, 'Individuals'),\n",
              " (26, 'IRC', 'Dharkenley', 34, 'Households'),\n",
              " (27, 'SCI', 'Bulo-Kahin', 4300, 'Individuals'),\n",
              " (28, 'IMC', 'Bulo-Kahin', 4212, 'Individuals'),\n",
              " (29, 'IRC', 'Bulo-Kahin', 3200, 'Individuals'),\n",
              " (30, 'IRC', 'Hilo Kelyo', 5212, 'Individuals'),\n",
              " (31, 'SCI', 'Hilo Kelyo', 25, 'Households'),\n",
              " (32, 'CESVI', 'Xubow', 2157, 'Individuals'),\n",
              " (33, 'IMC', 'Xiintooy', 1667, 'Individuals'),\n",
              " (34, 'IRC', 'Xiintooy', 2667, 'Individuals'),\n",
              " (35, 'CESVI', 'Dhagax Jebis', 2856, 'Individuals'),\n",
              " (36, 'CESVI', 'Filtare', 7519, 'Individuals'),\n",
              " (37, 'CESVI', 'Howl-Wadaag', 6870, 'Individuals'),\n",
              " (38, 'IMC', 'Howl-Wadaag', 32, 'Households')]"
            ],
            "text/html": [
              "<table>\n",
              "    <thead>\n",
              "        <tr>\n",
              "            <th>partner_id</th>\n",
              "            <th>partner</th>\n",
              "            <th>village</th>\n",
              "            <th>beneficiaries</th>\n",
              "            <th>beneficiary_type</th>\n",
              "        </tr>\n",
              "    </thead>\n",
              "    <tbody>\n",
              "        <tr>\n",
              "            <td>1</td>\n",
              "            <td>IRC</td>\n",
              "            <td>Balcad</td>\n",
              "            <td>1450</td>\n",
              "            <td>Individuals</td>\n",
              "        </tr>\n",
              "        <tr>\n",
              "            <td>2</td>\n",
              "            <td>NRC</td>\n",
              "            <td>Balcad</td>\n",
              "            <td>50</td>\n",
              "            <td>Households</td>\n",
              "        </tr>\n",
              "        <tr>\n",
              "            <td>3</td>\n",
              "            <td>SCI</td>\n",
              "            <td>Balcad</td>\n",
              "            <td>1123</td>\n",
              "            <td>Individuals</td>\n",
              "        </tr>\n",
              "        <tr>\n",
              "            <td>4</td>\n",
              "            <td>IMC</td>\n",
              "            <td>Balcad</td>\n",
              "            <td>1245</td>\n",
              "            <td>Individuals</td>\n",
              "        </tr>\n",
              "        <tr>\n",
              "            <td>5</td>\n",
              "            <td>SCI</td>\n",
              "            <td>Mareeray</td>\n",
              "            <td>5200</td>\n",
              "            <td>Individuals</td>\n",
              "        </tr>\n",
              "        <tr>\n",
              "            <td>6</td>\n",
              "            <td>IMC</td>\n",
              "            <td>Mareeray</td>\n",
              "            <td>70</td>\n",
              "            <td>Households</td>\n",
              "        </tr>\n",
              "        <tr>\n",
              "            <td>7</td>\n",
              "            <td>IRC</td>\n",
              "            <td>Mareeray</td>\n",
              "            <td>2100</td>\n",
              "            <td>Individuals</td>\n",
              "        </tr>\n",
              "        <tr>\n",
              "            <td>8</td>\n",
              "            <td>CESVI</td>\n",
              "            <td>Mareeray</td>\n",
              "            <td>1800</td>\n",
              "            <td>Individuals</td>\n",
              "        </tr>\n",
              "        <tr>\n",
              "            <td>9</td>\n",
              "            <td>SCI</td>\n",
              "            <td>Kulmis</td>\n",
              "            <td>1340</td>\n",
              "            <td>Individuals</td>\n",
              "        </tr>\n",
              "        <tr>\n",
              "            <td>10</td>\n",
              "            <td>IMC</td>\n",
              "            <td>Kulmis</td>\n",
              "            <td>55</td>\n",
              "            <td>Households</td>\n",
              "        </tr>\n",
              "        <tr>\n",
              "            <td>11</td>\n",
              "            <td>SCI</td>\n",
              "            <td>Kulmis</td>\n",
              "            <td>4500</td>\n",
              "            <td>Individuals</td>\n",
              "        </tr>\n",
              "        <tr>\n",
              "            <td>12</td>\n",
              "            <td>IMC</td>\n",
              "            <td>Kulmis</td>\n",
              "            <td>1670</td>\n",
              "            <td>Individuals</td>\n",
              "        </tr>\n",
              "        <tr>\n",
              "            <td>13</td>\n",
              "            <td>IMC</td>\n",
              "            <td>Sabuun</td>\n",
              "            <td>1340</td>\n",
              "            <td>Individuals</td>\n",
              "        </tr>\n",
              "        <tr>\n",
              "            <td>14</td>\n",
              "            <td>IRC</td>\n",
              "            <td>Sabuun</td>\n",
              "            <td>66</td>\n",
              "            <td>Households</td>\n",
              "        </tr>\n",
              "        <tr>\n",
              "            <td>15</td>\n",
              "            <td>CESVI</td>\n",
              "            <td>Sabuun</td>\n",
              "            <td>4090</td>\n",
              "            <td>Individuals</td>\n",
              "        </tr>\n",
              "        <tr>\n",
              "            <td>16</td>\n",
              "            <td>SCI</td>\n",
              "            <td>Sabuun</td>\n",
              "            <td>2930</td>\n",
              "            <td>Individuals</td>\n",
              "        </tr>\n",
              "        <tr>\n",
              "            <td>17</td>\n",
              "            <td>IMC</td>\n",
              "            <td>Bayaxaw</td>\n",
              "            <td>2800</td>\n",
              "            <td>Individuals</td>\n",
              "        </tr>\n",
              "        <tr>\n",
              "            <td>18</td>\n",
              "            <td>IRC</td>\n",
              "            <td>Bayaxaw</td>\n",
              "            <td>2100</td>\n",
              "            <td>Individuals</td>\n",
              "        </tr>\n",
              "        <tr>\n",
              "            <td>19</td>\n",
              "            <td>CESVI</td>\n",
              "            <td>Bayaxaw</td>\n",
              "            <td>45</td>\n",
              "            <td>Households</td>\n",
              "        </tr>\n",
              "        <tr>\n",
              "            <td>20</td>\n",
              "            <td>SCI</td>\n",
              "            <td>Bayaxaw</td>\n",
              "            <td>1700</td>\n",
              "            <td>Individuals</td>\n",
              "        </tr>\n",
              "        <tr>\n",
              "            <td>21</td>\n",
              "            <td>SCI</td>\n",
              "            <td>Bayaxawo</td>\n",
              "            <td>5900</td>\n",
              "            <td>Individuals</td>\n",
              "        </tr>\n",
              "        <tr>\n",
              "            <td>22</td>\n",
              "            <td>IMC</td>\n",
              "            <td>Bayaxawo</td>\n",
              "            <td>40</td>\n",
              "            <td>Households</td>\n",
              "        </tr>\n",
              "        <tr>\n",
              "            <td>23</td>\n",
              "            <td>IRC</td>\n",
              "            <td>Bayaxawo</td>\n",
              "            <td>1500</td>\n",
              "            <td>Individuals</td>\n",
              "        </tr>\n",
              "        <tr>\n",
              "            <td>24</td>\n",
              "            <td>CESVI</td>\n",
              "            <td>Bayaxawo</td>\n",
              "            <td>1260</td>\n",
              "            <td>Individuals</td>\n",
              "        </tr>\n",
              "        <tr>\n",
              "            <td>25</td>\n",
              "            <td>CESVI</td>\n",
              "            <td>Dharkenley</td>\n",
              "            <td>7880</td>\n",
              "            <td>Individuals</td>\n",
              "        </tr>\n",
              "        <tr>\n",
              "            <td>26</td>\n",
              "            <td>IRC</td>\n",
              "            <td>Dharkenley</td>\n",
              "            <td>34</td>\n",
              "            <td>Households</td>\n",
              "        </tr>\n",
              "        <tr>\n",
              "            <td>27</td>\n",
              "            <td>SCI</td>\n",
              "            <td>Bulo-Kahin</td>\n",
              "            <td>4300</td>\n",
              "            <td>Individuals</td>\n",
              "        </tr>\n",
              "        <tr>\n",
              "            <td>28</td>\n",
              "            <td>IMC</td>\n",
              "            <td>Bulo-Kahin</td>\n",
              "            <td>4212</td>\n",
              "            <td>Individuals</td>\n",
              "        </tr>\n",
              "        <tr>\n",
              "            <td>29</td>\n",
              "            <td>IRC</td>\n",
              "            <td>Bulo-Kahin</td>\n",
              "            <td>3200</td>\n",
              "            <td>Individuals</td>\n",
              "        </tr>\n",
              "        <tr>\n",
              "            <td>30</td>\n",
              "            <td>IRC</td>\n",
              "            <td>Hilo Kelyo</td>\n",
              "            <td>5212</td>\n",
              "            <td>Individuals</td>\n",
              "        </tr>\n",
              "        <tr>\n",
              "            <td>31</td>\n",
              "            <td>SCI</td>\n",
              "            <td>Hilo Kelyo</td>\n",
              "            <td>25</td>\n",
              "            <td>Households</td>\n",
              "        </tr>\n",
              "        <tr>\n",
              "            <td>32</td>\n",
              "            <td>CESVI</td>\n",
              "            <td>Xubow</td>\n",
              "            <td>2157</td>\n",
              "            <td>Individuals</td>\n",
              "        </tr>\n",
              "        <tr>\n",
              "            <td>33</td>\n",
              "            <td>IMC</td>\n",
              "            <td>Xiintooy</td>\n",
              "            <td>1667</td>\n",
              "            <td>Individuals</td>\n",
              "        </tr>\n",
              "        <tr>\n",
              "            <td>34</td>\n",
              "            <td>IRC</td>\n",
              "            <td>Xiintooy</td>\n",
              "            <td>2667</td>\n",
              "            <td>Individuals</td>\n",
              "        </tr>\n",
              "        <tr>\n",
              "            <td>35</td>\n",
              "            <td>CESVI</td>\n",
              "            <td>Dhagax Jebis</td>\n",
              "            <td>2856</td>\n",
              "            <td>Individuals</td>\n",
              "        </tr>\n",
              "        <tr>\n",
              "            <td>36</td>\n",
              "            <td>CESVI</td>\n",
              "            <td>Filtare</td>\n",
              "            <td>7519</td>\n",
              "            <td>Individuals</td>\n",
              "        </tr>\n",
              "        <tr>\n",
              "            <td>37</td>\n",
              "            <td>CESVI</td>\n",
              "            <td>Howl-Wadaag</td>\n",
              "            <td>6870</td>\n",
              "            <td>Individuals</td>\n",
              "        </tr>\n",
              "        <tr>\n",
              "            <td>38</td>\n",
              "            <td>IMC</td>\n",
              "            <td>Howl-Wadaag</td>\n",
              "            <td>32</td>\n",
              "            <td>Households</td>\n",
              "        </tr>\n",
              "    </tbody>\n",
              "</table>"
            ]
          },
          "metadata": {},
          "execution_count": 12
        }
      ]
    },
    {
      "cell_type": "code",
      "source": [
        "%%sql\n",
        "CREATE VIEW District_summary AS\n",
        "SELECT\n",
        "    jh1.beneficiary_name AS District_Name,\n",
        "    jh2.beneficiary_name AS Region_Name,\n",
        "    SUM(CASE WHEN bp.beneficiary_type = 'Individuals' THEN bp.beneficiaries ELSE 6 * bp.beneficiaries END) AS No_of_Individual_Beneficiaries,\n",
        "    SUM(CASE WHEN bp.beneficiary_type = 'Individuals' THEN bp.beneficiaries ELSE 6 * bp.beneficiaries END) / vl.total_population AS Individuals_Percent_of_District_Population\n",
        "FROM jurisdiction_hierarchy jh1\n",
        "JOIN jurisdiction_hierarchy jh2 ON jh1.village = jh2.village AND jh2.jurisdiction_hierarchy_level = 'Region'\n",
        "JOIN beneficiary_partner_data bp ON jh1.village = bp.village\n",
        "JOIN village_locations vl ON jh1.village = vl.village\n",
        "GROUP BY jh1.beneficiary_name, jh2.beneficiary_name;"
      ],
      "metadata": {
        "colab": {
          "base_uri": "https://localhost:8080/"
        },
        "id": "gcM-dKDCWz_7",
        "outputId": "7b6fff2b-c7a5-457d-c505-5c8636758938"
      },
      "execution_count": 41,
      "outputs": [
        {
          "output_type": "stream",
          "name": "stdout",
          "text": [
            " * sqlite:///tablegen.db\n",
            "Done.\n"
          ]
        },
        {
          "output_type": "execute_result",
          "data": {
            "text/plain": [
              "[]"
            ]
          },
          "metadata": {},
          "execution_count": 41
        }
      ]
    },
    {
      "cell_type": "code",
      "source": [
        "%%sql\n",
        "CREATE VIEW Partner_summary AS\n",
        "SELECT\n",
        "    partner,\n",
        "    COUNT(DISTINCT village) AS No_of_Villages_reached_by_partner,\n",
        "    COUNT(DISTINCT jh.beneficiary_name) AS No_of_Districts_reached_by_partner\n",
        "FROM beneficiary_partner_data\n",
        "GROUP BY partner;"
      ],
      "metadata": {
        "colab": {
          "base_uri": "https://localhost:8080/"
        },
        "id": "fQInDZHFW9rm",
        "outputId": "2dc845a9-1d65-4243-cab2-6b6f93314eff"
      },
      "execution_count": 42,
      "outputs": [
        {
          "output_type": "stream",
          "name": "stdout",
          "text": [
            " * sqlite:///tablegen.db\n",
            "Done.\n"
          ]
        },
        {
          "output_type": "execute_result",
          "data": {
            "text/plain": [
              "[]"
            ]
          },
          "metadata": {},
          "execution_count": 42
        }
      ]
    }
  ]
}